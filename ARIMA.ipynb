{
 "cells": [
  {
   "cell_type": "code",
   "execution_count": 1,
   "id": "nX8rQ1Jfhot8",
   "metadata": {
    "colab": {
     "base_uri": "https://localhost:8080/"
    },
    "executionInfo": {
     "elapsed": 5248,
     "status": "ok",
     "timestamp": 1746208501060,
     "user": {
      "displayName": "JIANING",
      "userId": "09015604869551975773"
     },
     "user_tz": -120
    },
    "id": "nX8rQ1Jfhot8",
    "outputId": "d4b6633c-d9d4-4af6-c48b-9227b96b5dad"
   },
   "outputs": [
    {
     "name": "stdout",
     "output_type": "stream",
     "text": [
      "Collecting numpy==1.23.5\n",
      "  Downloading numpy-1.23.5.tar.gz (10.7 MB)\n",
      "     ---------------------------------------- 0.0/10.7 MB ? eta -:--:--\n",
      "     --- ------------------------------------ 1.0/10.7 MB 7.2 MB/s eta 0:00:02\n",
      "     --------- ------------------------------ 2.6/10.7 MB 6.3 MB/s eta 0:00:02\n",
      "     -------------- ------------------------- 3.9/10.7 MB 6.3 MB/s eta 0:00:02\n",
      "     ------------------- -------------------- 5.2/10.7 MB 6.4 MB/s eta 0:00:01\n",
      "     ----------------------- ---------------- 6.3/10.7 MB 6.3 MB/s eta 0:00:01\n",
      "     ---------------------------- ----------- 7.6/10.7 MB 6.3 MB/s eta 0:00:01\n",
      "     --------------------------------- ------ 8.9/10.7 MB 6.3 MB/s eta 0:00:01\n",
      "     ---------------------------------------  10.5/10.7 MB 6.4 MB/s eta 0:00:01\n",
      "     ---------------------------------------- 10.7/10.7 MB 6.3 MB/s eta 0:00:00\n",
      "  Installing build dependencies: started\n",
      "  Installing build dependencies: finished with status 'done'\n",
      "  Getting requirements to build wheel: started\n",
      "  Getting requirements to build wheel: finished with status 'error'\n"
     ]
    },
    {
     "name": "stderr",
     "output_type": "stream",
     "text": [
      "  error: subprocess-exited-with-error\n",
      "  \n",
      "  × Getting requirements to build wheel did not run successfully.\n",
      "  │ exit code: 1\n",
      "  ╰─> [33 lines of output]\n",
      "      Traceback (most recent call last):\n",
      "        File \"C:\\Users\\Yin Jianing\\anaconda3\\envs\\timeseries\\Lib\\site-packages\\pip\\_vendor\\pyproject_hooks\\_in_process\\_in_process.py\", line 389, in <module>\n",
      "          main()\n",
      "        File \"C:\\Users\\Yin Jianing\\anaconda3\\envs\\timeseries\\Lib\\site-packages\\pip\\_vendor\\pyproject_hooks\\_in_process\\_in_process.py\", line 373, in main\n",
      "          json_out[\"return_val\"] = hook(**hook_input[\"kwargs\"])\n",
      "                                   ^^^^^^^^^^^^^^^^^^^^^^^^^^^^\n",
      "        File \"C:\\Users\\Yin Jianing\\anaconda3\\envs\\timeseries\\Lib\\site-packages\\pip\\_vendor\\pyproject_hooks\\_in_process\\_in_process.py\", line 137, in get_requires_for_build_wheel\n",
      "          backend = _build_backend()\n",
      "                    ^^^^^^^^^^^^^^^^\n",
      "        File \"C:\\Users\\Yin Jianing\\anaconda3\\envs\\timeseries\\Lib\\site-packages\\pip\\_vendor\\pyproject_hooks\\_in_process\\_in_process.py\", line 70, in _build_backend\n",
      "          obj = import_module(mod_path)\n",
      "                ^^^^^^^^^^^^^^^^^^^^^^^\n",
      "        File \"C:\\Users\\Yin Jianing\\anaconda3\\envs\\timeseries\\Lib\\importlib\\__init__.py\", line 90, in import_module\n",
      "          return _bootstrap._gcd_import(name[level:], package, level)\n",
      "                 ^^^^^^^^^^^^^^^^^^^^^^^^^^^^^^^^^^^^^^^^^^^^^^^^^^^^\n",
      "        File \"<frozen importlib._bootstrap>\", line 1387, in _gcd_import\n",
      "        File \"<frozen importlib._bootstrap>\", line 1360, in _find_and_load\n",
      "        File \"<frozen importlib._bootstrap>\", line 1310, in _find_and_load_unlocked\n",
      "        File \"<frozen importlib._bootstrap>\", line 488, in _call_with_frames_removed\n",
      "        File \"<frozen importlib._bootstrap>\", line 1387, in _gcd_import\n",
      "        File \"<frozen importlib._bootstrap>\", line 1360, in _find_and_load\n",
      "        File \"<frozen importlib._bootstrap>\", line 1331, in _find_and_load_unlocked\n",
      "        File \"<frozen importlib._bootstrap>\", line 935, in _load_unlocked\n",
      "        File \"<frozen importlib._bootstrap_external>\", line 995, in exec_module\n",
      "        File \"<frozen importlib._bootstrap>\", line 488, in _call_with_frames_removed\n",
      "        File \"C:\\Users\\Yin Jianing\\AppData\\Local\\Temp\\pip-build-env-q32qvpwd\\overlay\\Lib\\site-packages\\setuptools\\__init__.py\", line 16, in <module>\n",
      "          import setuptools.version\n",
      "        File \"C:\\Users\\Yin Jianing\\AppData\\Local\\Temp\\pip-build-env-q32qvpwd\\overlay\\Lib\\site-packages\\setuptools\\version.py\", line 1, in <module>\n",
      "          import pkg_resources\n",
      "        File \"C:\\Users\\Yin Jianing\\AppData\\Local\\Temp\\pip-build-env-q32qvpwd\\overlay\\Lib\\site-packages\\pkg_resources\\__init__.py\", line 2172, in <module>\n",
      "          register_finder(pkgutil.ImpImporter, find_on_path)\n",
      "                          ^^^^^^^^^^^^^^^^^^^\n",
      "      AttributeError: module 'pkgutil' has no attribute 'ImpImporter'. Did you mean: 'zipimporter'?\n",
      "      [end of output]\n",
      "  \n",
      "  note: This error originates from a subprocess, and is likely not a problem with pip.\n",
      "error: subprocess-exited-with-error\n",
      "\n",
      "× Getting requirements to build wheel did not run successfully.\n",
      "│ exit code: 1\n",
      "╰─> See above for output.\n",
      "\n",
      "note: This error originates from a subprocess, and is likely not a problem with pip.\n"
     ]
    }
   ],
   "source": [
    "# Install specific compatible versions\n",
    "!pip install numpy==1.23.5 pmdarima==2.0.4 --no-cache-dir\n",
    "\n"
   ]
  },
  {
   "cell_type": "code",
   "execution_count": 1,
   "id": "sDaXZjDFjAjM",
   "metadata": {
    "executionInfo": {
     "elapsed": 731,
     "status": "ok",
     "timestamp": 1746208504543,
     "user": {
      "displayName": "JIANING",
      "userId": "09015604869551975773"
     },
     "user_tz": -120
    },
    "id": "sDaXZjDFjAjM"
   },
   "outputs": [],
   "source": [
    "import pandas as pd\n",
    "import numpy as np\n",
    "from statsmodels.tsa.arima.model import ARIMA\n",
    "from sklearn.model_selection import TimeSeriesSplit\n",
    "from sklearn.metrics import mean_absolute_error, mean_squared_error\n",
    "from itertools import product\n",
    "import matplotlib.pyplot as plt"
   ]
  },
  {
   "cell_type": "code",
   "execution_count": 3,
   "id": "T5p3HY1Afe81",
   "metadata": {
    "colab": {
     "base_uri": "https://localhost:8080/",
     "height": 78
    },
    "executionInfo": {
     "elapsed": 6003,
     "status": "ok",
     "timestamp": 1746208511769,
     "user": {
      "displayName": "JIANING",
      "userId": "09015604869551975773"
     },
     "user_tz": -120
    },
    "id": "T5p3HY1Afe81",
    "outputId": "12ca4a77-3db4-4609-e2ef-1c5174e250c9"
   },
   "outputs": [
    {
     "data": {
      "text/html": [
       "\n",
       "     <input type=\"file\" id=\"files-bbe9fec2-8858-45f0-aaf9-62877802d4b2\" name=\"files[]\" multiple disabled\n",
       "        style=\"border:none\" />\n",
       "     <output id=\"result-bbe9fec2-8858-45f0-aaf9-62877802d4b2\">\n",
       "      Upload widget is only available when the cell has been executed in the\n",
       "      current browser session. Please rerun this cell to enable.\n",
       "      </output>\n",
       "      <script>// Copyright 2017 Google LLC\n",
       "//\n",
       "// Licensed under the Apache License, Version 2.0 (the \"License\");\n",
       "// you may not use this file except in compliance with the License.\n",
       "// You may obtain a copy of the License at\n",
       "//\n",
       "//      http://www.apache.org/licenses/LICENSE-2.0\n",
       "//\n",
       "// Unless required by applicable law or agreed to in writing, software\n",
       "// distributed under the License is distributed on an \"AS IS\" BASIS,\n",
       "// WITHOUT WARRANTIES OR CONDITIONS OF ANY KIND, either express or implied.\n",
       "// See the License for the specific language governing permissions and\n",
       "// limitations under the License.\n",
       "\n",
       "/**\n",
       " * @fileoverview Helpers for google.colab Python module.\n",
       " */\n",
       "(function(scope) {\n",
       "function span(text, styleAttributes = {}) {\n",
       "  const element = document.createElement('span');\n",
       "  element.textContent = text;\n",
       "  for (const key of Object.keys(styleAttributes)) {\n",
       "    element.style[key] = styleAttributes[key];\n",
       "  }\n",
       "  return element;\n",
       "}\n",
       "\n",
       "// Max number of bytes which will be uploaded at a time.\n",
       "const MAX_PAYLOAD_SIZE = 100 * 1024;\n",
       "\n",
       "function _uploadFiles(inputId, outputId) {\n",
       "  const steps = uploadFilesStep(inputId, outputId);\n",
       "  const outputElement = document.getElementById(outputId);\n",
       "  // Cache steps on the outputElement to make it available for the next call\n",
       "  // to uploadFilesContinue from Python.\n",
       "  outputElement.steps = steps;\n",
       "\n",
       "  return _uploadFilesContinue(outputId);\n",
       "}\n",
       "\n",
       "// This is roughly an async generator (not supported in the browser yet),\n",
       "// where there are multiple asynchronous steps and the Python side is going\n",
       "// to poll for completion of each step.\n",
       "// This uses a Promise to block the python side on completion of each step,\n",
       "// then passes the result of the previous step as the input to the next step.\n",
       "function _uploadFilesContinue(outputId) {\n",
       "  const outputElement = document.getElementById(outputId);\n",
       "  const steps = outputElement.steps;\n",
       "\n",
       "  const next = steps.next(outputElement.lastPromiseValue);\n",
       "  return Promise.resolve(next.value.promise).then((value) => {\n",
       "    // Cache the last promise value to make it available to the next\n",
       "    // step of the generator.\n",
       "    outputElement.lastPromiseValue = value;\n",
       "    return next.value.response;\n",
       "  });\n",
       "}\n",
       "\n",
       "/**\n",
       " * Generator function which is called between each async step of the upload\n",
       " * process.\n",
       " * @param {string} inputId Element ID of the input file picker element.\n",
       " * @param {string} outputId Element ID of the output display.\n",
       " * @return {!Iterable<!Object>} Iterable of next steps.\n",
       " */\n",
       "function* uploadFilesStep(inputId, outputId) {\n",
       "  const inputElement = document.getElementById(inputId);\n",
       "  inputElement.disabled = false;\n",
       "\n",
       "  const outputElement = document.getElementById(outputId);\n",
       "  outputElement.innerHTML = '';\n",
       "\n",
       "  const pickedPromise = new Promise((resolve) => {\n",
       "    inputElement.addEventListener('change', (e) => {\n",
       "      resolve(e.target.files);\n",
       "    });\n",
       "  });\n",
       "\n",
       "  const cancel = document.createElement('button');\n",
       "  inputElement.parentElement.appendChild(cancel);\n",
       "  cancel.textContent = 'Cancel upload';\n",
       "  const cancelPromise = new Promise((resolve) => {\n",
       "    cancel.onclick = () => {\n",
       "      resolve(null);\n",
       "    };\n",
       "  });\n",
       "\n",
       "  // Wait for the user to pick the files.\n",
       "  const files = yield {\n",
       "    promise: Promise.race([pickedPromise, cancelPromise]),\n",
       "    response: {\n",
       "      action: 'starting',\n",
       "    }\n",
       "  };\n",
       "\n",
       "  cancel.remove();\n",
       "\n",
       "  // Disable the input element since further picks are not allowed.\n",
       "  inputElement.disabled = true;\n",
       "\n",
       "  if (!files) {\n",
       "    return {\n",
       "      response: {\n",
       "        action: 'complete',\n",
       "      }\n",
       "    };\n",
       "  }\n",
       "\n",
       "  for (const file of files) {\n",
       "    const li = document.createElement('li');\n",
       "    li.append(span(file.name, {fontWeight: 'bold'}));\n",
       "    li.append(span(\n",
       "        `(${file.type || 'n/a'}) - ${file.size} bytes, ` +\n",
       "        `last modified: ${\n",
       "            file.lastModifiedDate ? file.lastModifiedDate.toLocaleDateString() :\n",
       "                                    'n/a'} - `));\n",
       "    const percent = span('0% done');\n",
       "    li.appendChild(percent);\n",
       "\n",
       "    outputElement.appendChild(li);\n",
       "\n",
       "    const fileDataPromise = new Promise((resolve) => {\n",
       "      const reader = new FileReader();\n",
       "      reader.onload = (e) => {\n",
       "        resolve(e.target.result);\n",
       "      };\n",
       "      reader.readAsArrayBuffer(file);\n",
       "    });\n",
       "    // Wait for the data to be ready.\n",
       "    let fileData = yield {\n",
       "      promise: fileDataPromise,\n",
       "      response: {\n",
       "        action: 'continue',\n",
       "      }\n",
       "    };\n",
       "\n",
       "    // Use a chunked sending to avoid message size limits. See b/62115660.\n",
       "    let position = 0;\n",
       "    do {\n",
       "      const length = Math.min(fileData.byteLength - position, MAX_PAYLOAD_SIZE);\n",
       "      const chunk = new Uint8Array(fileData, position, length);\n",
       "      position += length;\n",
       "\n",
       "      const base64 = btoa(String.fromCharCode.apply(null, chunk));\n",
       "      yield {\n",
       "        response: {\n",
       "          action: 'append',\n",
       "          file: file.name,\n",
       "          data: base64,\n",
       "        },\n",
       "      };\n",
       "\n",
       "      let percentDone = fileData.byteLength === 0 ?\n",
       "          100 :\n",
       "          Math.round((position / fileData.byteLength) * 100);\n",
       "      percent.textContent = `${percentDone}% done`;\n",
       "\n",
       "    } while (position < fileData.byteLength);\n",
       "  }\n",
       "\n",
       "  // All done.\n",
       "  yield {\n",
       "    response: {\n",
       "      action: 'complete',\n",
       "    }\n",
       "  };\n",
       "}\n",
       "\n",
       "scope.google = scope.google || {};\n",
       "scope.google.colab = scope.google.colab || {};\n",
       "scope.google.colab._files = {\n",
       "  _uploadFiles,\n",
       "  _uploadFilesContinue,\n",
       "};\n",
       "})(self);\n",
       "</script> "
      ],
      "text/plain": [
       "<IPython.core.display.HTML object>"
      ]
     },
     "metadata": {},
     "output_type": "display_data"
    },
    {
     "name": "stdout",
     "output_type": "stream",
     "text": [
      "Saving SARIMAX.xlsx to SARIMAX (1).xlsx\n"
     ]
    }
   ],
   "source": [
    "from google.colab import files\n",
    "uploaded = files.upload()\n"
   ]
  },
  {
   "cell_type": "code",
   "execution_count": 2,
   "id": "0a855812",
   "metadata": {},
   "outputs": [],
   "source": [
    "df = pd.read_excel('SARIMAX.xlsx', index_col='Date', parse_dates=True)\n",
    "df = df.asfreq('h')"
   ]
  },
  {
   "cell_type": "code",
   "execution_count": 3,
   "id": "5b2dfe71",
   "metadata": {
    "colab": {
     "base_uri": "https://localhost:8080/",
     "height": 503
    },
    "executionInfo": {
     "elapsed": 1162,
     "status": "ok",
     "timestamp": 1746208521226,
     "user": {
      "displayName": "JIANING",
      "userId": "09015604869551975773"
     },
     "user_tz": -120
    },
    "id": "5b2dfe71",
    "outputId": "f7978277-9271-44bf-a733-37a5f5d08089"
   },
   "outputs": [
    {
     "data": {
      "text/plain": [
       "<Axes: title={'center': 'Turbidity'}, xlabel='Date'>"
      ]
     },
     "execution_count": 3,
     "metadata": {},
     "output_type": "execute_result"
    },
    {
     "data": {
      "image/png": "[encoded data removed]",
      "text/plain": [
       "<Figure size 1000x500 with 1 Axes>"
      ]
     },
     "metadata": {},
     "output_type": "display_data"
    }
   ],
   "source": [
    "df['turbidity'].plot(title='Turbidity', figsize=(10, 5), legend=True)"
   ]
  },
  {
   "cell_type": "code",
   "execution_count": 4,
   "id": "9de99557",
   "metadata": {
    "colab": {
     "base_uri": "https://localhost:8080/"
    },
    "executionInfo": {
     "elapsed": 7245,
     "status": "ok",
     "timestamp": 1746208528470,
     "user": {
      "displayName": "JIANING",
      "userId": "09015604869551975773"
     },
     "user_tz": -120
    },
    "id": "9de99557",
    "outputId": "de7630d6-9922-473d-cf5e-566f6dff496d"
   },
   "outputs": [
    {
     "name": "stdout",
     "output_type": "stream",
     "text": [
      "ADF Statistic: -1.8648080235775646\n",
      "p-value: 0.34879323482591773\n",
      "Critical Values:\n",
      "   1%: -3.4305996065332724\n",
      "   5%: -2.8616503187533002\n",
      "   10%: -2.5668287194080244\n"
     ]
    }
   ],
   "source": [
    "from statsmodels.tsa.stattools import adfuller\n",
    "result = adfuller(df['turbidity'])\n",
    "print('ADF Statistic:', result[0])\n",
    "print('p-value:', result[1])\n",
    "print('Critical Values:')\n",
    "for key, value in result[4].items():\n",
    "    print(f'   {key}: {value}')\n",
    "# The p-value is less than 0.05, so we reject the null hypothesis and conclude that the time series is stationary."
   ]
  },
  {
   "cell_type": "code",
   "execution_count": 5,
   "id": "1ae04e97",
   "metadata": {
    "colab": {
     "base_uri": "https://localhost:8080/",
     "height": 503
    },
    "executionInfo": {
     "elapsed": 4536,
     "status": "ok",
     "timestamp": 1746208533004,
     "user": {
      "displayName": "JIANING",
      "userId": "09015604869551975773"
     },
     "user_tz": -120
    },
    "id": "1ae04e97",
    "outputId": "acff13a6-be32-4432-8586-c0aecbce9d13"
   },
   "outputs": [
    {
     "data": {
      "text/plain": [
       "<Axes: title={'center': 'Turbidity and Differenced Turbidity'}, xlabel='Date'>"
      ]
     },
     "execution_count": 5,
     "metadata": {},
     "output_type": "execute_result"
    },
    {
     "data": {
      "image/png": "[encoded data removed]",
      "text/plain": [
       "<Figure size 1000x500 with 1 Axes>"
      ]
     },
     "metadata": {},
     "output_type": "display_data"
    }
   ],
   "source": [
    "# difference the series\n",
    "df['turbidity_diff'] = df['turbidity'].diff().dropna()\n",
    "\n",
    "# plot the original and differenced series\n",
    "df[['turbidity', 'turbidity_diff']].plot(title='Turbidity and Differenced Turbidity', figsize=(10, 5), legend=True)"
   ]
  },
  {
   "cell_type": "code",
   "execution_count": 6,
   "id": "64bdec41",
   "metadata": {
    "colab": {
     "base_uri": "https://localhost:8080/"
    },
    "executionInfo": {
     "elapsed": 2911,
     "status": "ok",
     "timestamp": 1746208535916,
     "user": {
      "displayName": "JIANING",
      "userId": "09015604869551975773"
     },
     "user_tz": -120
    },
    "id": "64bdec41",
    "outputId": "9decd094-75eb-42b3-ec3e-27b7bf268cde"
   },
   "outputs": [
    {
     "name": "stdout",
     "output_type": "stream",
     "text": [
      "ADF Statistic: -27.431776440873236\n",
      "p-value: 0.0\n",
      "Critical Values:\n",
      "   1%: -3.4305996065332724\n",
      "   5%: -2.8616503187533002\n",
      "   10%: -2.5668287194080244\n"
     ]
    }
   ],
   "source": [
    "adfuller_result = adfuller(df['turbidity_diff'].dropna())\n",
    "print('ADF Statistic:', adfuller_result[0])\n",
    "print('p-value:', adfuller_result[1])\n",
    "print('Critical Values:')\n",
    "for key, value in adfuller_result[4].items():\n",
    "    print(f'   {key}: {value}')\n",
    "# The p-value is less than 0.05, so we reject the null hypothesis and conclude that the differenced series is stationary."
   ]
  },
  {
   "cell_type": "markdown",
   "id": "55d5238a",
   "metadata": {
    "id": "55d5238a"
   },
   "source": [
    "# ARIMA model"
   ]
  },
  {
   "cell_type": "code",
   "execution_count": 7,
   "id": "83e14e94",
   "metadata": {
    "executionInfo": {
     "elapsed": 3,
     "status": "ok",
     "timestamp": 1746208535917,
     "user": {
      "displayName": "JIANING",
      "userId": "09015604869551975773"
     },
     "user_tz": -120
    },
    "id": "83e14e94"
   },
   "outputs": [],
   "source": [
    "import pandas as pd\n",
    "import numpy as np\n",
    "import matplotlib.pyplot as plt"
   ]
  },
  {
   "cell_type": "code",
   "execution_count": 8,
   "id": "748b2d10",
   "metadata": {
    "executionInfo": {
     "elapsed": 3,
     "status": "ok",
     "timestamp": 1746208535918,
     "user": {
      "displayName": "JIANING",
      "userId": "09015604869551975773"
     },
     "user_tz": -120
    },
    "id": "748b2d10"
   },
   "outputs": [],
   "source": [
    "# Split the data into training and testing sets\n",
    "train_size = int(len(df) * 0.8)\n",
    "train, test = df[:train_size], df[train_size:]"
   ]
  },
  {
   "cell_type": "code",
   "execution_count": 9,
   "id": "403902e3",
   "metadata": {
    "colab": {
     "base_uri": "https://localhost:8080/",
     "height": 423
    },
    "executionInfo": {
     "elapsed": 13,
     "status": "ok",
     "timestamp": 1746208535929,
     "user": {
      "displayName": "JIANING",
      "userId": "09015604869551975773"
     },
     "user_tz": -120
    },
    "id": "403902e3",
    "outputId": "401064e7-4c2d-4152-b3b3-eb0bdc72a1bc"
   },
   "outputs": [
    {
     "data": {
      "text/html": [
       "<div>\n",
       "<style scoped>\n",
       "    .dataframe tbody tr th:only-of-type {\n",
       "        vertical-align: middle;\n",
       "    }\n",
       "\n",
       "    .dataframe tbody tr th {\n",
       "        vertical-align: top;\n",
       "    }\n",
       "\n",
       "    .dataframe thead th {\n",
       "        text-align: right;\n",
       "    }\n",
       "</style>\n",
       "<table border=\"1\" class=\"dataframe\">\n",
       "  <thead>\n",
       "    <tr style=\"text-align: right;\">\n",
       "      <th></th>\n",
       "      <th>temperature_2m (°C)</th>\n",
       "      <th>relative_humidity_2m (%)</th>\n",
       "      <th>wind_speed_10m (km/h)</th>\n",
       "      <th>soil_moisture_0_to_7cm (m³/m³)</th>\n",
       "      <th>direct_radiation (W/m²)</th>\n",
       "      <th>turbidity</th>\n",
       "      <th>turbidity_diff</th>\n",
       "    </tr>\n",
       "    <tr>\n",
       "      <th>Date</th>\n",
       "      <th></th>\n",
       "      <th></th>\n",
       "      <th></th>\n",
       "      <th></th>\n",
       "      <th></th>\n",
       "      <th></th>\n",
       "      <th></th>\n",
       "    </tr>\n",
       "  </thead>\n",
       "  <tbody>\n",
       "    <tr>\n",
       "      <th>2020-12-31 15:00:00</th>\n",
       "      <td>4.0</td>\n",
       "      <td>78</td>\n",
       "      <td>9.8</td>\n",
       "      <td>0.391</td>\n",
       "      <td>55</td>\n",
       "      <td>0.430411</td>\n",
       "      <td>NaN</td>\n",
       "    </tr>\n",
       "    <tr>\n",
       "      <th>2020-12-31 16:00:00</th>\n",
       "      <td>3.4</td>\n",
       "      <td>85</td>\n",
       "      <td>5.6</td>\n",
       "      <td>0.391</td>\n",
       "      <td>25</td>\n",
       "      <td>0.522836</td>\n",
       "      <td>0.092425</td>\n",
       "    </tr>\n",
       "    <tr>\n",
       "      <th>2020-12-31 17:00:00</th>\n",
       "      <td>1.5</td>\n",
       "      <td>94</td>\n",
       "      <td>7.3</td>\n",
       "      <td>0.390</td>\n",
       "      <td>3</td>\n",
       "      <td>0.512069</td>\n",
       "      <td>-0.010766</td>\n",
       "    </tr>\n",
       "    <tr>\n",
       "      <th>2020-12-31 18:00:00</th>\n",
       "      <td>0.8</td>\n",
       "      <td>95</td>\n",
       "      <td>7.1</td>\n",
       "      <td>0.389</td>\n",
       "      <td>0</td>\n",
       "      <td>0.450545</td>\n",
       "      <td>-0.061524</td>\n",
       "    </tr>\n",
       "    <tr>\n",
       "      <th>2020-12-31 19:00:00</th>\n",
       "      <td>-0.1</td>\n",
       "      <td>97</td>\n",
       "      <td>8.4</td>\n",
       "      <td>0.388</td>\n",
       "      <td>0</td>\n",
       "      <td>0.405494</td>\n",
       "      <td>-0.045050</td>\n",
       "    </tr>\n",
       "    <tr>\n",
       "      <th>...</th>\n",
       "      <td>...</td>\n",
       "      <td>...</td>\n",
       "      <td>...</td>\n",
       "      <td>...</td>\n",
       "      <td>...</td>\n",
       "      <td>...</td>\n",
       "      <td>...</td>\n",
       "    </tr>\n",
       "    <tr>\n",
       "      <th>2023-05-25 10:00:00</th>\n",
       "      <td>15.0</td>\n",
       "      <td>64</td>\n",
       "      <td>15.8</td>\n",
       "      <td>0.246</td>\n",
       "      <td>352</td>\n",
       "      <td>0.229242</td>\n",
       "      <td>0.074710</td>\n",
       "    </tr>\n",
       "    <tr>\n",
       "      <th>2023-05-25 11:00:00</th>\n",
       "      <td>15.7</td>\n",
       "      <td>61</td>\n",
       "      <td>16.6</td>\n",
       "      <td>0.245</td>\n",
       "      <td>251</td>\n",
       "      <td>0.136613</td>\n",
       "      <td>-0.092629</td>\n",
       "    </tr>\n",
       "    <tr>\n",
       "      <th>2023-05-25 12:00:00</th>\n",
       "      <td>16.6</td>\n",
       "      <td>57</td>\n",
       "      <td>16.8</td>\n",
       "      <td>0.244</td>\n",
       "      <td>203</td>\n",
       "      <td>0.228651</td>\n",
       "      <td>0.092038</td>\n",
       "    </tr>\n",
       "    <tr>\n",
       "      <th>2023-05-25 13:00:00</th>\n",
       "      <td>16.2</td>\n",
       "      <td>60</td>\n",
       "      <td>17.3</td>\n",
       "      <td>0.243</td>\n",
       "      <td>409</td>\n",
       "      <td>0.225934</td>\n",
       "      <td>-0.002717</td>\n",
       "    </tr>\n",
       "    <tr>\n",
       "      <th>2023-05-25 14:00:00</th>\n",
       "      <td>16.3</td>\n",
       "      <td>62</td>\n",
       "      <td>18.0</td>\n",
       "      <td>0.242</td>\n",
       "      <td>108</td>\n",
       "      <td>0.267168</td>\n",
       "      <td>0.041235</td>\n",
       "    </tr>\n",
       "  </tbody>\n",
       "</table>\n",
       "<p>21000 rows × 7 columns</p>\n",
       "</div>"
      ],
      "text/plain": [
       "                     temperature_2m (°C)  relative_humidity_2m (%)  \\\n",
       "Date                                                                 \n",
       "2020-12-31 15:00:00                  4.0                        78   \n",
       "2020-12-31 16:00:00                  3.4                        85   \n",
       "2020-12-31 17:00:00                  1.5                        94   \n",
       "2020-12-31 18:00:00                  0.8                        95   \n",
       "2020-12-31 19:00:00                 -0.1                        97   \n",
       "...                                  ...                       ...   \n",
       "2023-05-25 10:00:00                 15.0                        64   \n",
       "2023-05-25 11:00:00                 15.7                        61   \n",
       "2023-05-25 12:00:00                 16.6                        57   \n",
       "2023-05-25 13:00:00                 16.2                        60   \n",
       "2023-05-25 14:00:00                 16.3                        62   \n",
       "\n",
       "                     wind_speed_10m (km/h)  soil_moisture_0_to_7cm (m³/m³)  \\\n",
       "Date                                                                         \n",
       "2020-12-31 15:00:00                    9.8                           0.391   \n",
       "2020-12-31 16:00:00                    5.6                           0.391   \n",
       "2020-12-31 17:00:00                    7.3                           0.390   \n",
       "2020-12-31 18:00:00                    7.1                           0.389   \n",
       "2020-12-31 19:00:00                    8.4                           0.388   \n",
       "...                                    ...                             ...   \n",
       "2023-05-25 10:00:00                   15.8                           0.246   \n",
       "2023-05-25 11:00:00                   16.6                           0.245   \n",
       "2023-05-25 12:00:00                   16.8                           0.244   \n",
       "2023-05-25 13:00:00                   17.3                           0.243   \n",
       "2023-05-25 14:00:00                   18.0                           0.242   \n",
       "\n",
       "                     direct_radiation (W/m²)  turbidity  turbidity_diff  \n",
       "Date                                                                     \n",
       "2020-12-31 15:00:00                       55   0.430411             NaN  \n",
       "2020-12-31 16:00:00                       25   0.522836        0.092425  \n",
       "2020-12-31 17:00:00                        3   0.512069       -0.010766  \n",
       "2020-12-31 18:00:00                        0   0.450545       -0.061524  \n",
       "2020-12-31 19:00:00                        0   0.405494       -0.045050  \n",
       "...                                      ...        ...             ...  \n",
       "2023-05-25 10:00:00                      352   0.229242        0.074710  \n",
       "2023-05-25 11:00:00                      251   0.136613       -0.092629  \n",
       "2023-05-25 12:00:00                      203   0.228651        0.092038  \n",
       "2023-05-25 13:00:00                      409   0.225934       -0.002717  \n",
       "2023-05-25 14:00:00                      108   0.267168        0.041235  \n",
       "\n",
       "[21000 rows x 7 columns]"
      ]
     },
     "execution_count": 9,
     "metadata": {},
     "output_type": "execute_result"
    }
   ],
   "source": [
    "train"
   ]
  },
  {
   "cell_type": "code",
   "execution_count": 10,
   "id": "4df9bbbe",
   "metadata": {
    "colab": {
     "base_uri": "https://localhost:8080/",
     "height": 423
    },
    "executionInfo": {
     "elapsed": 71,
     "status": "ok",
     "timestamp": 1746208536000,
     "user": {
      "displayName": "JIANING",
      "userId": "09015604869551975773"
     },
     "user_tz": -120
    },
    "id": "4df9bbbe",
    "outputId": "e4b28554-8280-402f-b6d6-66dd99cd55d7"
   },
   "outputs": [
    {
     "data": {
      "text/html": [
       "<div>\n",
       "<style scoped>\n",
       "    .dataframe tbody tr th:only-of-type {\n",
       "        vertical-align: middle;\n",
       "    }\n",
       "\n",
       "    .dataframe tbody tr th {\n",
       "        vertical-align: top;\n",
       "    }\n",
       "\n",
       "    .dataframe thead th {\n",
       "        text-align: right;\n",
       "    }\n",
       "</style>\n",
       "<table border=\"1\" class=\"dataframe\">\n",
       "  <thead>\n",
       "    <tr style=\"text-align: right;\">\n",
       "      <th></th>\n",
       "      <th>temperature_2m (°C)</th>\n",
       "      <th>relative_humidity_2m (%)</th>\n",
       "      <th>wind_speed_10m (km/h)</th>\n",
       "      <th>soil_moisture_0_to_7cm (m³/m³)</th>\n",
       "      <th>direct_radiation (W/m²)</th>\n",
       "      <th>turbidity</th>\n",
       "      <th>turbidity_diff</th>\n",
       "    </tr>\n",
       "    <tr>\n",
       "      <th>Date</th>\n",
       "      <th></th>\n",
       "      <th></th>\n",
       "      <th></th>\n",
       "      <th></th>\n",
       "      <th></th>\n",
       "      <th></th>\n",
       "      <th></th>\n",
       "    </tr>\n",
       "  </thead>\n",
       "  <tbody>\n",
       "    <tr>\n",
       "      <th>2023-05-25 15:00:00</th>\n",
       "      <td>16.6</td>\n",
       "      <td>61</td>\n",
       "      <td>17.7</td>\n",
       "      <td>0.242</td>\n",
       "      <td>198</td>\n",
       "      <td>0.413618</td>\n",
       "      <td>0.146450</td>\n",
       "    </tr>\n",
       "    <tr>\n",
       "      <th>2023-05-25 16:00:00</th>\n",
       "      <td>16.8</td>\n",
       "      <td>59</td>\n",
       "      <td>17.4</td>\n",
       "      <td>0.241</td>\n",
       "      <td>61</td>\n",
       "      <td>0.527081</td>\n",
       "      <td>0.113463</td>\n",
       "    </tr>\n",
       "    <tr>\n",
       "      <th>2023-05-25 17:00:00</th>\n",
       "      <td>17.0</td>\n",
       "      <td>56</td>\n",
       "      <td>17.1</td>\n",
       "      <td>0.240</td>\n",
       "      <td>109</td>\n",
       "      <td>0.518886</td>\n",
       "      <td>-0.008195</td>\n",
       "    </tr>\n",
       "    <tr>\n",
       "      <th>2023-05-25 18:00:00</th>\n",
       "      <td>16.8</td>\n",
       "      <td>55</td>\n",
       "      <td>16.4</td>\n",
       "      <td>0.239</td>\n",
       "      <td>98</td>\n",
       "      <td>0.481047</td>\n",
       "      <td>-0.037838</td>\n",
       "    </tr>\n",
       "    <tr>\n",
       "      <th>2023-05-25 19:00:00</th>\n",
       "      <td>16.4</td>\n",
       "      <td>59</td>\n",
       "      <td>13.4</td>\n",
       "      <td>0.239</td>\n",
       "      <td>25</td>\n",
       "      <td>0.452715</td>\n",
       "      <td>-0.028332</td>\n",
       "    </tr>\n",
       "    <tr>\n",
       "      <th>...</th>\n",
       "      <td>...</td>\n",
       "      <td>...</td>\n",
       "      <td>...</td>\n",
       "      <td>...</td>\n",
       "      <td>...</td>\n",
       "      <td>...</td>\n",
       "      <td>...</td>\n",
       "    </tr>\n",
       "    <tr>\n",
       "      <th>2023-12-30 05:00:00</th>\n",
       "      <td>6.9</td>\n",
       "      <td>90</td>\n",
       "      <td>21.5</td>\n",
       "      <td>0.399</td>\n",
       "      <td>0</td>\n",
       "      <td>0.455236</td>\n",
       "      <td>0.026392</td>\n",
       "    </tr>\n",
       "    <tr>\n",
       "      <th>2023-12-30 06:00:00</th>\n",
       "      <td>6.9</td>\n",
       "      <td>90</td>\n",
       "      <td>21.4</td>\n",
       "      <td>0.399</td>\n",
       "      <td>0</td>\n",
       "      <td>0.398240</td>\n",
       "      <td>-0.056996</td>\n",
       "    </tr>\n",
       "    <tr>\n",
       "      <th>2023-12-30 07:00:00</th>\n",
       "      <td>6.7</td>\n",
       "      <td>91</td>\n",
       "      <td>19.0</td>\n",
       "      <td>0.398</td>\n",
       "      <td>0</td>\n",
       "      <td>0.413984</td>\n",
       "      <td>0.015745</td>\n",
       "    </tr>\n",
       "    <tr>\n",
       "      <th>2023-12-30 08:00:00</th>\n",
       "      <td>6.6</td>\n",
       "      <td>93</td>\n",
       "      <td>19.4</td>\n",
       "      <td>0.397</td>\n",
       "      <td>0</td>\n",
       "      <td>0.435343</td>\n",
       "      <td>0.021359</td>\n",
       "    </tr>\n",
       "    <tr>\n",
       "      <th>2023-12-30 09:00:00</th>\n",
       "      <td>6.6</td>\n",
       "      <td>93</td>\n",
       "      <td>19.4</td>\n",
       "      <td>0.397</td>\n",
       "      <td>0</td>\n",
       "      <td>0.379473</td>\n",
       "      <td>-0.055870</td>\n",
       "    </tr>\n",
       "  </tbody>\n",
       "</table>\n",
       "<p>5251 rows × 7 columns</p>\n",
       "</div>"
      ],
      "text/plain": [
       "                     temperature_2m (°C)  relative_humidity_2m (%)  \\\n",
       "Date                                                                 \n",
       "2023-05-25 15:00:00                 16.6                        61   \n",
       "2023-05-25 16:00:00                 16.8                        59   \n",
       "2023-05-25 17:00:00                 17.0                        56   \n",
       "2023-05-25 18:00:00                 16.8                        55   \n",
       "2023-05-25 19:00:00                 16.4                        59   \n",
       "...                                  ...                       ...   \n",
       "2023-12-30 05:00:00                  6.9                        90   \n",
       "2023-12-30 06:00:00                  6.9                        90   \n",
       "2023-12-30 07:00:00                  6.7                        91   \n",
       "2023-12-30 08:00:00                  6.6                        93   \n",
       "2023-12-30 09:00:00                  6.6                        93   \n",
       "\n",
       "                     wind_speed_10m (km/h)  soil_moisture_0_to_7cm (m³/m³)  \\\n",
       "Date                                                                         \n",
       "2023-05-25 15:00:00                   17.7                           0.242   \n",
       "2023-05-25 16:00:00                   17.4                           0.241   \n",
       "2023-05-25 17:00:00                   17.1                           0.240   \n",
       "2023-05-25 18:00:00                   16.4                           0.239   \n",
       "2023-05-25 19:00:00                   13.4                           0.239   \n",
       "...                                    ...                             ...   \n",
       "2023-12-30 05:00:00                   21.5                           0.399   \n",
       "2023-12-30 06:00:00                   21.4                           0.399   \n",
       "2023-12-30 07:00:00                   19.0                           0.398   \n",
       "2023-12-30 08:00:00                   19.4                           0.397   \n",
       "2023-12-30 09:00:00                   19.4                           0.397   \n",
       "\n",
       "                     direct_radiation (W/m²)  turbidity  turbidity_diff  \n",
       "Date                                                                     \n",
       "2023-05-25 15:00:00                      198   0.413618        0.146450  \n",
       "2023-05-25 16:00:00                       61   0.527081        0.113463  \n",
       "2023-05-25 17:00:00                      109   0.518886       -0.008195  \n",
       "2023-05-25 18:00:00                       98   0.481047       -0.037838  \n",
       "2023-05-25 19:00:00                       25   0.452715       -0.028332  \n",
       "...                                      ...        ...             ...  \n",
       "2023-12-30 05:00:00                        0   0.455236        0.026392  \n",
       "2023-12-30 06:00:00                        0   0.398240       -0.056996  \n",
       "2023-12-30 07:00:00                        0   0.413984        0.015745  \n",
       "2023-12-30 08:00:00                        0   0.435343        0.021359  \n",
       "2023-12-30 09:00:00                        0   0.379473       -0.055870  \n",
       "\n",
       "[5251 rows x 7 columns]"
      ]
     },
     "execution_count": 10,
     "metadata": {},
     "output_type": "execute_result"
    }
   ],
   "source": [
    "test"
   ]
  },
  {
   "cell_type": "code",
   "execution_count": 11,
   "id": "1439d2d8",
   "metadata": {
    "executionInfo": {
     "elapsed": 1789,
     "status": "ok",
     "timestamp": 1746208537788,
     "user": {
      "displayName": "JIANING",
      "userId": "09015604869551975773"
     },
     "user_tz": -120
    },
    "id": "1439d2d8"
   },
   "outputs": [],
   "source": [
    "from pmdarima import auto_arima, ARIMA, model_selection"
   ]
  },
  {
   "cell_type": "code",
   "execution_count": 12,
   "id": "df2a09db",
   "metadata": {
    "colab": {
     "base_uri": "https://localhost:8080/",
     "height": 1000
    },
    "executionInfo": {
     "elapsed": 954682,
     "status": "ok",
     "timestamp": 1746209492471,
     "user": {
      "displayName": "JIANING",
      "userId": "09015604869551975773"
     },
     "user_tz": -120
    },
    "id": "df2a09db",
    "outputId": "3dd891f0-a474-4d2c-b28b-8fd4df142706"
   },
   "outputs": [
    {
     "name": "stderr",
     "output_type": "stream",
     "text": [
      "c:\\Users\\Yin Jianing\\anaconda3\\envs\\timeseries\\Lib\\site-packages\\sklearn\\utils\\deprecation.py:151: FutureWarning: 'force_all_finite' was renamed to 'ensure_all_finite' in 1.6 and will be removed in 1.8.\n",
      "  warnings.warn(\n",
      "c:\\Users\\Yin Jianing\\anaconda3\\envs\\timeseries\\Lib\\site-packages\\sklearn\\utils\\deprecation.py:151: FutureWarning: 'force_all_finite' was renamed to 'ensure_all_finite' in 1.6 and will be removed in 1.8.\n",
      "  warnings.warn(\n",
      "c:\\Users\\Yin Jianing\\anaconda3\\envs\\timeseries\\Lib\\site-packages\\sklearn\\utils\\deprecation.py:151: FutureWarning: 'force_all_finite' was renamed to 'ensure_all_finite' in 1.6 and will be removed in 1.8.\n",
      "  warnings.warn(\n",
      "c:\\Users\\Yin Jianing\\anaconda3\\envs\\timeseries\\Lib\\site-packages\\sklearn\\utils\\deprecation.py:151: FutureWarning: 'force_all_finite' was renamed to 'ensure_all_finite' in 1.6 and will be removed in 1.8.\n",
      "  warnings.warn(\n",
      "c:\\Users\\Yin Jianing\\anaconda3\\envs\\timeseries\\Lib\\site-packages\\sklearn\\utils\\deprecation.py:151: FutureWarning: 'force_all_finite' was renamed to 'ensure_all_finite' in 1.6 and will be removed in 1.8.\n",
      "  warnings.warn(\n",
      "c:\\Users\\Yin Jianing\\anaconda3\\envs\\timeseries\\Lib\\site-packages\\sklearn\\utils\\deprecation.py:151: FutureWarning: 'force_all_finite' was renamed to 'ensure_all_finite' in 1.6 and will be removed in 1.8.\n",
      "  warnings.warn(\n",
      "c:\\Users\\Yin Jianing\\anaconda3\\envs\\timeseries\\Lib\\site-packages\\sklearn\\utils\\deprecation.py:151: FutureWarning: 'force_all_finite' was renamed to 'ensure_all_finite' in 1.6 and will be removed in 1.8.\n",
      "  warnings.warn(\n",
      "c:\\Users\\Yin Jianing\\anaconda3\\envs\\timeseries\\Lib\\site-packages\\sklearn\\utils\\deprecation.py:151: FutureWarning: 'force_all_finite' was renamed to 'ensure_all_finite' in 1.6 and will be removed in 1.8.\n",
      "  warnings.warn(\n",
      "c:\\Users\\Yin Jianing\\anaconda3\\envs\\timeseries\\Lib\\site-packages\\sklearn\\utils\\deprecation.py:151: FutureWarning: 'force_all_finite' was renamed to 'ensure_all_finite' in 1.6 and will be removed in 1.8.\n",
      "  warnings.warn(\n",
      "c:\\Users\\Yin Jianing\\anaconda3\\envs\\timeseries\\Lib\\site-packages\\sklearn\\utils\\deprecation.py:151: FutureWarning: 'force_all_finite' was renamed to 'ensure_all_finite' in 1.6 and will be removed in 1.8.\n",
      "  warnings.warn(\n",
      "c:\\Users\\Yin Jianing\\anaconda3\\envs\\timeseries\\Lib\\site-packages\\sklearn\\utils\\deprecation.py:151: FutureWarning: 'force_all_finite' was renamed to 'ensure_all_finite' in 1.6 and will be removed in 1.8.\n",
      "  warnings.warn(\n",
      "c:\\Users\\Yin Jianing\\anaconda3\\envs\\timeseries\\Lib\\site-packages\\sklearn\\utils\\deprecation.py:151: FutureWarning: 'force_all_finite' was renamed to 'ensure_all_finite' in 1.6 and will be removed in 1.8.\n",
      "  warnings.warn(\n",
      "c:\\Users\\Yin Jianing\\anaconda3\\envs\\timeseries\\Lib\\site-packages\\sklearn\\utils\\deprecation.py:151: FutureWarning: 'force_all_finite' was renamed to 'ensure_all_finite' in 1.6 and will be removed in 1.8.\n",
      "  warnings.warn(\n",
      "c:\\Users\\Yin Jianing\\anaconda3\\envs\\timeseries\\Lib\\site-packages\\sklearn\\utils\\deprecation.py:151: FutureWarning: 'force_all_finite' was renamed to 'ensure_all_finite' in 1.6 and will be removed in 1.8.\n",
      "  warnings.warn(\n",
      "c:\\Users\\Yin Jianing\\anaconda3\\envs\\timeseries\\Lib\\site-packages\\sklearn\\utils\\deprecation.py:151: FutureWarning: 'force_all_finite' was renamed to 'ensure_all_finite' in 1.6 and will be removed in 1.8.\n",
      "  warnings.warn(\n",
      "c:\\Users\\Yin Jianing\\anaconda3\\envs\\timeseries\\Lib\\site-packages\\sklearn\\utils\\deprecation.py:151: FutureWarning: 'force_all_finite' was renamed to 'ensure_all_finite' in 1.6 and will be removed in 1.8.\n",
      "  warnings.warn(\n",
      "c:\\Users\\Yin Jianing\\anaconda3\\envs\\timeseries\\Lib\\site-packages\\sklearn\\utils\\deprecation.py:151: FutureWarning: 'force_all_finite' was renamed to 'ensure_all_finite' in 1.6 and will be removed in 1.8.\n",
      "  warnings.warn(\n",
      "c:\\Users\\Yin Jianing\\anaconda3\\envs\\timeseries\\Lib\\site-packages\\sklearn\\utils\\deprecation.py:151: FutureWarning: 'force_all_finite' was renamed to 'ensure_all_finite' in 1.6 and will be removed in 1.8.\n",
      "  warnings.warn(\n",
      "c:\\Users\\Yin Jianing\\anaconda3\\envs\\timeseries\\Lib\\site-packages\\sklearn\\utils\\deprecation.py:151: FutureWarning: 'force_all_finite' was renamed to 'ensure_all_finite' in 1.6 and will be removed in 1.8.\n",
      "  warnings.warn(\n",
      "c:\\Users\\Yin Jianing\\anaconda3\\envs\\timeseries\\Lib\\site-packages\\sklearn\\utils\\deprecation.py:151: FutureWarning: 'force_all_finite' was renamed to 'ensure_all_finite' in 1.6 and will be removed in 1.8.\n",
      "  warnings.warn(\n",
      "c:\\Users\\Yin Jianing\\anaconda3\\envs\\timeseries\\Lib\\site-packages\\sklearn\\utils\\deprecation.py:151: FutureWarning: 'force_all_finite' was renamed to 'ensure_all_finite' in 1.6 and will be removed in 1.8.\n",
      "  warnings.warn(\n",
      "c:\\Users\\Yin Jianing\\anaconda3\\envs\\timeseries\\Lib\\site-packages\\sklearn\\utils\\deprecation.py:151: FutureWarning: 'force_all_finite' was renamed to 'ensure_all_finite' in 1.6 and will be removed in 1.8.\n",
      "  warnings.warn(\n",
      "c:\\Users\\Yin Jianing\\anaconda3\\envs\\timeseries\\Lib\\site-packages\\sklearn\\utils\\deprecation.py:151: FutureWarning: 'force_all_finite' was renamed to 'ensure_all_finite' in 1.6 and will be removed in 1.8.\n",
      "  warnings.warn(\n",
      "c:\\Users\\Yin Jianing\\anaconda3\\envs\\timeseries\\Lib\\site-packages\\sklearn\\utils\\deprecation.py:151: FutureWarning: 'force_all_finite' was renamed to 'ensure_all_finite' in 1.6 and will be removed in 1.8.\n",
      "  warnings.warn(\n",
      "c:\\Users\\Yin Jianing\\anaconda3\\envs\\timeseries\\Lib\\site-packages\\sklearn\\utils\\deprecation.py:151: FutureWarning: 'force_all_finite' was renamed to 'ensure_all_finite' in 1.6 and will be removed in 1.8.\n",
      "  warnings.warn(\n",
      "c:\\Users\\Yin Jianing\\anaconda3\\envs\\timeseries\\Lib\\site-packages\\sklearn\\utils\\deprecation.py:151: FutureWarning: 'force_all_finite' was renamed to 'ensure_all_finite' in 1.6 and will be removed in 1.8.\n",
      "  warnings.warn(\n",
      "c:\\Users\\Yin Jianing\\anaconda3\\envs\\timeseries\\Lib\\site-packages\\sklearn\\utils\\deprecation.py:151: FutureWarning: 'force_all_finite' was renamed to 'ensure_all_finite' in 1.6 and will be removed in 1.8.\n",
      "  warnings.warn(\n",
      "c:\\Users\\Yin Jianing\\anaconda3\\envs\\timeseries\\Lib\\site-packages\\sklearn\\utils\\deprecation.py:151: FutureWarning: 'force_all_finite' was renamed to 'ensure_all_finite' in 1.6 and will be removed in 1.8.\n",
      "  warnings.warn(\n",
      "c:\\Users\\Yin Jianing\\anaconda3\\envs\\timeseries\\Lib\\site-packages\\sklearn\\utils\\deprecation.py:151: FutureWarning: 'force_all_finite' was renamed to 'ensure_all_finite' in 1.6 and will be removed in 1.8.\n",
      "  warnings.warn(\n",
      "c:\\Users\\Yin Jianing\\anaconda3\\envs\\timeseries\\Lib\\site-packages\\sklearn\\utils\\deprecation.py:151: FutureWarning: 'force_all_finite' was renamed to 'ensure_all_finite' in 1.6 and will be removed in 1.8.\n",
      "  warnings.warn(\n",
      "c:\\Users\\Yin Jianing\\anaconda3\\envs\\timeseries\\Lib\\site-packages\\sklearn\\utils\\deprecation.py:151: FutureWarning: 'force_all_finite' was renamed to 'ensure_all_finite' in 1.6 and will be removed in 1.8.\n",
      "  warnings.warn(\n",
      "c:\\Users\\Yin Jianing\\anaconda3\\envs\\timeseries\\Lib\\site-packages\\sklearn\\utils\\deprecation.py:151: FutureWarning: 'force_all_finite' was renamed to 'ensure_all_finite' in 1.6 and will be removed in 1.8.\n",
      "  warnings.warn(\n",
      "c:\\Users\\Yin Jianing\\anaconda3\\envs\\timeseries\\Lib\\site-packages\\sklearn\\utils\\deprecation.py:151: FutureWarning: 'force_all_finite' was renamed to 'ensure_all_finite' in 1.6 and will be removed in 1.8.\n",
      "  warnings.warn(\n",
      "c:\\Users\\Yin Jianing\\anaconda3\\envs\\timeseries\\Lib\\site-packages\\sklearn\\utils\\deprecation.py:151: FutureWarning: 'force_all_finite' was renamed to 'ensure_all_finite' in 1.6 and will be removed in 1.8.\n",
      "  warnings.warn(\n",
      "c:\\Users\\Yin Jianing\\anaconda3\\envs\\timeseries\\Lib\\site-packages\\sklearn\\utils\\deprecation.py:151: FutureWarning: 'force_all_finite' was renamed to 'ensure_all_finite' in 1.6 and will be removed in 1.8.\n",
      "  warnings.warn(\n",
      "c:\\Users\\Yin Jianing\\anaconda3\\envs\\timeseries\\Lib\\site-packages\\sklearn\\utils\\deprecation.py:151: FutureWarning: 'force_all_finite' was renamed to 'ensure_all_finite' in 1.6 and will be removed in 1.8.\n",
      "  warnings.warn(\n",
      "c:\\Users\\Yin Jianing\\anaconda3\\envs\\timeseries\\Lib\\site-packages\\sklearn\\utils\\deprecation.py:151: FutureWarning: 'force_all_finite' was renamed to 'ensure_all_finite' in 1.6 and will be removed in 1.8.\n",
      "  warnings.warn(\n",
      "c:\\Users\\Yin Jianing\\anaconda3\\envs\\timeseries\\Lib\\site-packages\\sklearn\\utils\\deprecation.py:151: FutureWarning: 'force_all_finite' was renamed to 'ensure_all_finite' in 1.6 and will be removed in 1.8.\n",
      "  warnings.warn(\n",
      "c:\\Users\\Yin Jianing\\anaconda3\\envs\\timeseries\\Lib\\site-packages\\sklearn\\utils\\deprecation.py:151: FutureWarning: 'force_all_finite' was renamed to 'ensure_all_finite' in 1.6 and will be removed in 1.8.\n",
      "  warnings.warn(\n",
      "c:\\Users\\Yin Jianing\\anaconda3\\envs\\timeseries\\Lib\\site-packages\\sklearn\\utils\\deprecation.py:151: FutureWarning: 'force_all_finite' was renamed to 'ensure_all_finite' in 1.6 and will be removed in 1.8.\n",
      "  warnings.warn(\n",
      "c:\\Users\\Yin Jianing\\anaconda3\\envs\\timeseries\\Lib\\site-packages\\sklearn\\utils\\deprecation.py:151: FutureWarning: 'force_all_finite' was renamed to 'ensure_all_finite' in 1.6 and will be removed in 1.8.\n",
      "  warnings.warn(\n",
      "c:\\Users\\Yin Jianing\\anaconda3\\envs\\timeseries\\Lib\\site-packages\\sklearn\\utils\\deprecation.py:151: FutureWarning: 'force_all_finite' was renamed to 'ensure_all_finite' in 1.6 and will be removed in 1.8.\n",
      "  warnings.warn(\n",
      "c:\\Users\\Yin Jianing\\anaconda3\\envs\\timeseries\\Lib\\site-packages\\sklearn\\utils\\deprecation.py:151: FutureWarning: 'force_all_finite' was renamed to 'ensure_all_finite' in 1.6 and will be removed in 1.8.\n",
      "  warnings.warn(\n",
      "c:\\Users\\Yin Jianing\\anaconda3\\envs\\timeseries\\Lib\\site-packages\\sklearn\\utils\\deprecation.py:151: FutureWarning: 'force_all_finite' was renamed to 'ensure_all_finite' in 1.6 and will be removed in 1.8.\n",
      "  warnings.warn(\n"
     ]
    },
    {
     "data": {
      "text/html": [
       "<table class=\"simpletable\">\n",
       "<caption>SARIMAX Results</caption>\n",
       "<tr>\n",
       "  <th>Dep. Variable:</th>           <td>y</td>        <th>  No. Observations:  </th>    <td>21000</td>  \n",
       "</tr>\n",
       "<tr>\n",
       "  <th>Model:</th>           <td>SARIMAX(4, 1, 3)</td> <th>  Log Likelihood     </th>  <td>15546.595</td>\n",
       "</tr>\n",
       "<tr>\n",
       "  <th>Date:</th>            <td>Sun, 04 May 2025</td> <th>  AIC                </th> <td>-31077.189</td>\n",
       "</tr>\n",
       "<tr>\n",
       "  <th>Time:</th>                <td>02:21:54</td>     <th>  BIC                </th> <td>-31013.572</td>\n",
       "</tr>\n",
       "<tr>\n",
       "  <th>Sample:</th>             <td>12-31-2020</td>    <th>  HQIC               </th> <td>-31056.425</td>\n",
       "</tr>\n",
       "<tr>\n",
       "  <th></th>                   <td>- 05-25-2023</td>   <th>                     </th>      <td> </td>    \n",
       "</tr>\n",
       "<tr>\n",
       "  <th>Covariance Type:</th>        <td>opg</td>       <th>                     </th>      <td> </td>    \n",
       "</tr>\n",
       "</table>\n",
       "<table class=\"simpletable\">\n",
       "<tr>\n",
       "     <td></td>       <th>coef</th>     <th>std err</th>      <th>z</th>      <th>P>|z|</th>  <th>[0.025</th>    <th>0.975]</th>  \n",
       "</tr>\n",
       "<tr>\n",
       "  <th>ar.L1</th>  <td>    0.0100</td> <td>    5.456</td> <td>    0.002</td> <td> 0.999</td> <td>  -10.684</td> <td>   10.704</td>\n",
       "</tr>\n",
       "<tr>\n",
       "  <th>ar.L2</th>  <td>    0.8357</td> <td>    0.852</td> <td>    0.980</td> <td> 0.327</td> <td>   -0.835</td> <td>    2.506</td>\n",
       "</tr>\n",
       "<tr>\n",
       "  <th>ar.L3</th>  <td>   -0.1542</td> <td>    4.415</td> <td>   -0.035</td> <td> 0.972</td> <td>   -8.807</td> <td>    8.498</td>\n",
       "</tr>\n",
       "<tr>\n",
       "  <th>ar.L4</th>  <td>    0.0022</td> <td>    0.105</td> <td>    0.021</td> <td> 0.983</td> <td>   -0.203</td> <td>    0.207</td>\n",
       "</tr>\n",
       "<tr>\n",
       "  <th>ma.L1</th>  <td>   -0.1173</td> <td>    5.456</td> <td>   -0.022</td> <td> 0.983</td> <td>  -10.811</td> <td>   10.577</td>\n",
       "</tr>\n",
       "<tr>\n",
       "  <th>ma.L2</th>  <td>   -0.9327</td> <td>    0.268</td> <td>   -3.486</td> <td> 0.000</td> <td>   -1.457</td> <td>   -0.408</td>\n",
       "</tr>\n",
       "<tr>\n",
       "  <th>ma.L3</th>  <td>    0.1542</td> <td>    5.045</td> <td>    0.031</td> <td> 0.976</td> <td>   -9.734</td> <td>   10.042</td>\n",
       "</tr>\n",
       "<tr>\n",
       "  <th>sigma2</th> <td>    0.0133</td> <td> 5.74e-05</td> <td>  231.905</td> <td> 0.000</td> <td>    0.013</td> <td>    0.013</td>\n",
       "</tr>\n",
       "</table>\n",
       "<table class=\"simpletable\">\n",
       "<tr>\n",
       "  <th>Ljung-Box (L1) (Q):</th>     <td>0.00</td> <th>  Jarque-Bera (JB):  </th> <td>84455.57</td>\n",
       "</tr>\n",
       "<tr>\n",
       "  <th>Prob(Q):</th>                <td>1.00</td> <th>  Prob(JB):          </th>   <td>0.00</td>  \n",
       "</tr>\n",
       "<tr>\n",
       "  <th>Heteroskedasticity (H):</th> <td>1.01</td> <th>  Skew:              </th>   <td>0.60</td>  \n",
       "</tr>\n",
       "<tr>\n",
       "  <th>Prob(H) (two-sided):</th>    <td>0.70</td> <th>  Kurtosis:          </th>   <td>12.75</td> \n",
       "</tr>\n",
       "</table><br/><br/>Warnings:<br/>[1] Covariance matrix calculated using the outer product of gradients (complex-step)."
      ],
      "text/latex": [
       "\\begin{center}\n",
       "\\begin{tabular}{lclc}\n",
       "\\toprule\n",
       "\\textbf{Dep. Variable:}          &        y         & \\textbf{  No. Observations:  } &   21000     \\\\\n",
       "\\textbf{Model:}                  & SARIMAX(4, 1, 3) & \\textbf{  Log Likelihood     } & 15546.595   \\\\\n",
       "\\textbf{Date:}                   & Sun, 04 May 2025 & \\textbf{  AIC                } & -31077.189  \\\\\n",
       "\\textbf{Time:}                   &     02:21:54     & \\textbf{  BIC                } & -31013.572  \\\\\n",
       "\\textbf{Sample:}                 &    12-31-2020    & \\textbf{  HQIC               } & -31056.425  \\\\\n",
       "\\textbf{}                        &   - 05-25-2023   & \\textbf{                     } &             \\\\\n",
       "\\textbf{Covariance Type:}        &       opg        & \\textbf{                     } &             \\\\\n",
       "\\bottomrule\n",
       "\\end{tabular}\n",
       "\\begin{tabular}{lcccccc}\n",
       "                & \\textbf{coef} & \\textbf{std err} & \\textbf{z} & \\textbf{P$> |$z$|$} & \\textbf{[0.025} & \\textbf{0.975]}  \\\\\n",
       "\\midrule\n",
       "\\textbf{ar.L1}  &       0.0100  &        5.456     &     0.002  &         0.999        &      -10.684    &       10.704     \\\\\n",
       "\\textbf{ar.L2}  &       0.8357  &        0.852     &     0.980  &         0.327        &       -0.835    &        2.506     \\\\\n",
       "\\textbf{ar.L3}  &      -0.1542  &        4.415     &    -0.035  &         0.972        &       -8.807    &        8.498     \\\\\n",
       "\\textbf{ar.L4}  &       0.0022  &        0.105     &     0.021  &         0.983        &       -0.203    &        0.207     \\\\\n",
       "\\textbf{ma.L1}  &      -0.1173  &        5.456     &    -0.022  &         0.983        &      -10.811    &       10.577     \\\\\n",
       "\\textbf{ma.L2}  &      -0.9327  &        0.268     &    -3.486  &         0.000        &       -1.457    &       -0.408     \\\\\n",
       "\\textbf{ma.L3}  &       0.1542  &        5.045     &     0.031  &         0.976        &       -9.734    &       10.042     \\\\\n",
       "\\textbf{sigma2} &       0.0133  &     5.74e-05     &   231.905  &         0.000        &        0.013    &        0.013     \\\\\n",
       "\\bottomrule\n",
       "\\end{tabular}\n",
       "\\begin{tabular}{lclc}\n",
       "\\textbf{Ljung-Box (L1) (Q):}     & 0.00 & \\textbf{  Jarque-Bera (JB):  } & 84455.57  \\\\\n",
       "\\textbf{Prob(Q):}                & 1.00 & \\textbf{  Prob(JB):          } &   0.00    \\\\\n",
       "\\textbf{Heteroskedasticity (H):} & 1.01 & \\textbf{  Skew:              } &   0.60    \\\\\n",
       "\\textbf{Prob(H) (two-sided):}    & 0.70 & \\textbf{  Kurtosis:          } &  12.75    \\\\\n",
       "\\bottomrule\n",
       "\\end{tabular}\n",
       "%\\caption{SARIMAX Results}\n",
       "\\end{center}\n",
       "\n",
       "Warnings: \\newline\n",
       " [1] Covariance matrix calculated using the outer product of gradients (complex-step)."
      ],
      "text/plain": [
       "<class 'statsmodels.iolib.summary.Summary'>\n",
       "\"\"\"\n",
       "                               SARIMAX Results                                \n",
       "==============================================================================\n",
       "Dep. Variable:                      y   No. Observations:                21000\n",
       "Model:               SARIMAX(4, 1, 3)   Log Likelihood               15546.595\n",
       "Date:                Sun, 04 May 2025   AIC                         -31077.189\n",
       "Time:                        02:21:54   BIC                         -31013.572\n",
       "Sample:                    12-31-2020   HQIC                        -31056.425\n",
       "                         - 05-25-2023                                         \n",
       "Covariance Type:                  opg                                         \n",
       "==============================================================================\n",
       "                 coef    std err          z      P>|z|      [0.025      0.975]\n",
       "------------------------------------------------------------------------------\n",
       "ar.L1          0.0100      5.456      0.002      0.999     -10.684      10.704\n",
       "ar.L2          0.8357      0.852      0.980      0.327      -0.835       2.506\n",
       "ar.L3         -0.1542      4.415     -0.035      0.972      -8.807       8.498\n",
       "ar.L4          0.0022      0.105      0.021      0.983      -0.203       0.207\n",
       "ma.L1         -0.1173      5.456     -0.022      0.983     -10.811      10.577\n",
       "ma.L2         -0.9327      0.268     -3.486      0.000      -1.457      -0.408\n",
       "ma.L3          0.1542      5.045      0.031      0.976      -9.734      10.042\n",
       "sigma2         0.0133   5.74e-05    231.905      0.000       0.013       0.013\n",
       "===================================================================================\n",
       "Ljung-Box (L1) (Q):                   0.00   Jarque-Bera (JB):             84455.57\n",
       "Prob(Q):                              1.00   Prob(JB):                         0.00\n",
       "Heteroskedasticity (H):               1.01   Skew:                             0.60\n",
       "Prob(H) (two-sided):                  0.70   Kurtosis:                        12.75\n",
       "===================================================================================\n",
       "\n",
       "Warnings:\n",
       "[1] Covariance matrix calculated using the outer product of gradients (complex-step).\n",
       "\"\"\""
      ]
     },
     "execution_count": 12,
     "metadata": {},
     "output_type": "execute_result"
    }
   ],
   "source": [
    "# using pmdarima for the arima model and the best parameters\n",
    "model = auto_arima(train['turbidity'], seasonal=True)\n",
    "model.summary()"
   ]
  },
  {
   "cell_type": "code",
   "execution_count": 13,
   "id": "b31662b7",
   "metadata": {
    "colab": {
     "base_uri": "https://localhost:8080/",
     "height": 495
    },
    "executionInfo": {
     "elapsed": 158,
     "status": "ok",
     "timestamp": 1746209492628,
     "user": {
      "displayName": "JIANING",
      "userId": "09015604869551975773"
     },
     "user_tz": -120
    },
    "id": "b31662b7",
    "outputId": "e0f76799-9ccf-4e08-fa94-253634021d75"
   },
   "outputs": [
    {
     "name": "stderr",
     "output_type": "stream",
     "text": [
      "c:\\Users\\Yin Jianing\\anaconda3\\envs\\timeseries\\Lib\\site-packages\\sklearn\\utils\\deprecation.py:151: FutureWarning: 'force_all_finite' was renamed to 'ensure_all_finite' in 1.6 and will be removed in 1.8.\n",
      "  warnings.warn(\n"
     ]
    },
    {
     "data": {
      "text/plain": [
       "2023-05-25 15:00:00    0.276166\n",
       "2023-05-25 16:00:00    0.286785\n",
       "2023-05-25 17:00:00    0.291605\n",
       "2023-05-25 18:00:00    0.299231\n",
       "2023-05-25 19:00:00    0.301718\n",
       "                         ...   \n",
       "2023-12-30 05:00:00    0.322061\n",
       "2023-12-30 06:00:00    0.322061\n",
       "2023-12-30 07:00:00    0.322061\n",
       "2023-12-30 08:00:00    0.322061\n",
       "2023-12-30 09:00:00    0.322061\n",
       "Freq: h, Length: 5251, dtype: float64"
      ]
     },
     "execution_count": 13,
     "metadata": {},
     "output_type": "execute_result"
    }
   ],
   "source": [
    "# predictions\n",
    "predictions_arima = model.predict(n_periods=len(test))\n",
    "predictions_arima"
   ]
  },
  {
   "cell_type": "code",
   "execution_count": 14,
   "id": "1f015111",
   "metadata": {
    "colab": {
     "base_uri": "https://localhost:8080/",
     "height": 487
    },
    "executionInfo": {
     "elapsed": 258,
     "status": "ok",
     "timestamp": 1746209492886,
     "user": {
      "displayName": "JIANING",
      "userId": "09015604869551975773"
     },
     "user_tz": -120
    },
    "id": "1f015111",
    "outputId": "d1ab018e-086f-4769-93bb-0e10e18be388"
   },
   "outputs": [
    {
     "data": {
      "image/png": "[encoded data removed]",
      "text/plain": [
       "<Figure size 1000x500 with 1 Axes>"
      ]
     },
     "metadata": {},
     "output_type": "display_data"
    }
   ],
   "source": [
    "# plot the predictions against the actual values\n",
    "plt.figure(figsize=(10, 5))\n",
    "plt.plot(train['turbidity'], label='Train')\n",
    "plt.plot(test['turbidity'], label='Test')\n",
    "plt.plot(test.index, predictions_arima, label='Predictions', color='red')\n",
    "plt.title('ARIMA Predictions vs Actual Values')\n",
    "plt.xlabel('Date')\n",
    "plt.ylabel('Turbidity')\n",
    "plt.legend()\n",
    "plt.show()"
   ]
  },
  {
   "cell_type": "code",
   "execution_count": 15,
   "id": "5e6dbe90",
   "metadata": {
    "colab": {
     "base_uri": "https://localhost:8080/"
    },
    "executionInfo": {
     "elapsed": 4,
     "status": "ok",
     "timestamp": 1746209492887,
     "user": {
      "displayName": "JIANING",
      "userId": "09015604869551975773"
     },
     "user_tz": -120
    },
    "id": "5e6dbe90",
    "outputId": "8a591b2b-68eb-4111-c762-72c77742e9cd"
   },
   "outputs": [
    {
     "name": "stdout",
     "output_type": "stream",
     "text": [
      "Mean Squared Error: 9.590318225897795\n",
      "Mean Absolute Error: 2.3363529624787476\n",
      "Mean Absolute Percentage Error: 0.723567395743187\n",
      "R2 Score: -1.316663665902369\n",
      "Root Mean Squared Error: 3.0968238932651295\n"
     ]
    }
   ],
   "source": [
    "# metrics\n",
    "from sklearn.metrics import mean_squared_error, mean_absolute_error, r2_score, mean_absolute_percentage_error, root_mean_squared_error\n",
    "import numpy as np\n",
    "\n",
    "# calculate the metrics\n",
    "mse = mean_squared_error(test['turbidity'], predictions_arima)\n",
    "mae = mean_absolute_error(test['turbidity'], predictions_arima)\n",
    "mape = mean_absolute_percentage_error(test['turbidity'], predictions_arima)\n",
    "r2 = r2_score(test['turbidity'], predictions_arima)\n",
    "rmse = np.sqrt(mse)\n",
    "\n",
    "# print the metrics\n",
    "print('Mean Squared Error:', mse)\n",
    "print('Mean Absolute Error:', mae)\n",
    "print('Mean Absolute Percentage Error:', mape)\n",
    "print('R2 Score:', r2)\n",
    "print('Root Mean Squared Error:', rmse)\n",
    "# The metrics indicate that the model is performing well, with a low MSE, MAE, and RMSE, and a high R2 score."
   ]
  },
  {
   "cell_type": "code",
   "execution_count": 16,
   "id": "ce7f2102",
   "metadata": {
    "colab": {
     "base_uri": "https://localhost:8080/",
     "height": 487
    },
    "executionInfo": {
     "elapsed": 249,
     "status": "ok",
     "timestamp": 1746209493134,
     "user": {
      "displayName": "JIANING",
      "userId": "09015604869551975773"
     },
     "user_tz": -120
    },
    "id": "ce7f2102",
    "outputId": "e9e12616-c6fb-4c1a-b7db-82299e7d8ef9"
   },
   "outputs": [
    {
     "data": {
      "image/png": "[encoded data removed]",
      "text/plain": [
       "<Figure size 1000x500 with 1 Axes>"
      ]
     },
     "metadata": {},
     "output_type": "display_data"
    }
   ],
   "source": [
    "# plot the predictions\n",
    "plt.figure(figsize=(10, 5))\n",
    "plt.plot(test['turbidity'], label='Test')\n",
    "plt.plot(test.index, predictions_arima, label='Predictions', color='red')\n",
    "plt.title('ARIMA Predictions vs Actual Values')\n",
    "plt.xlabel('Date')\n",
    "plt.ylabel('Turbidity')\n",
    "plt.legend()\n",
    "plt.show()"
   ]
  }
 ],
 "metadata": {
  "accelerator": "GPU",
  "colab": {
   "gpuType": "T4",
   "provenance": []
  },
  "kernelspec": {
   "display_name": "timeseries",
   "language": "python",
   "name": "python3"
  },
  "language_info": {
   "codemirror_mode": {
    "name": "ipython",
    "version": 3
   },
   "file_extension": ".py",
   "mimetype": "text/x-python",
   "name": "python",
   "nbconvert_exporter": "python",
   "pygments_lexer": "ipython3",
   "version": "3.12.4"
  }
 },
 "nbformat": 4,
 "nbformat_minor": 5
}
